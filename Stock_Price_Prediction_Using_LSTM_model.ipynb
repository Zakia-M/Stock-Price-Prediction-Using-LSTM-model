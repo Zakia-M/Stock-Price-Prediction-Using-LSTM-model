{
  "cells": [
    {
      "cell_type": "markdown",
      "source": [
        "**Description :**  \n",
        "In this project, we've used the LSTM model to predict the closing stock price of a corporation (Apple) using the past 30 day stock price."
      ],
      "metadata": {
        "id": "-HTYagDGCCng"
      },
      "id": "-HTYagDGCCng"
    },
    {
      "cell_type": "code",
      "execution_count": 40,
      "id": "e7b3a93e",
      "metadata": {
        "id": "e7b3a93e"
      },
      "outputs": [],
      "source": [
        "import math\n",
        "import numpy as np\n",
        "import pandas as pd\n",
        "from sklearn.preprocessing import MinMaxScaler\n",
        "from keras.models import Sequential\n",
        "from keras.layers import Dense, LSTM\n",
        "import matplotlib.pyplot as plt\n",
        "plt.style.use('fivethirtyeight')"
      ]
    },
    {
      "cell_type": "code",
      "source": [
        "from google.colab import drive\n",
        "drive.mount('/content/drive')"
      ],
      "metadata": {
        "colab": {
          "base_uri": "https://localhost:8080/"
        },
        "id": "CD_Bt9GsHmus",
        "outputId": "4d17ffd4-3e5d-4b13-e6f7-bd51e3d21306"
      },
      "id": "CD_Bt9GsHmus",
      "execution_count": 41,
      "outputs": [
        {
          "output_type": "stream",
          "name": "stdout",
          "text": [
            "Drive already mounted at /content/drive; to attempt to forcibly remount, call drive.mount(\"/content/drive\", force_remount=True).\n"
          ]
        }
      ]
    },
    {
      "cell_type": "code",
      "execution_count": 42,
      "id": "0009706a",
      "metadata": {
        "colab": {
          "base_uri": "https://localhost:8080/",
          "height": 144
        },
        "id": "0009706a",
        "outputId": "439ef37c-384a-4b3e-c19e-c9bae04ee3a3"
      },
      "outputs": [
        {
          "output_type": "execute_result",
          "data": {
            "text/html": [
              "\n",
              "  <div id=\"df-35dd6d9b-a3d2-4c88-b672-af2ea70c2b1d\">\n",
              "    <div class=\"colab-df-container\">\n",
              "      <div>\n",
              "<style scoped>\n",
              "    .dataframe tbody tr th:only-of-type {\n",
              "        vertical-align: middle;\n",
              "    }\n",
              "\n",
              "    .dataframe tbody tr th {\n",
              "        vertical-align: top;\n",
              "    }\n",
              "\n",
              "    .dataframe thead th {\n",
              "        text-align: right;\n",
              "    }\n",
              "</style>\n",
              "<table border=\"1\" class=\"dataframe\">\n",
              "  <thead>\n",
              "    <tr style=\"text-align: right;\">\n",
              "      <th></th>\n",
              "      <th>High</th>\n",
              "      <th>Low</th>\n",
              "      <th>Open</th>\n",
              "      <th>Close</th>\n",
              "      <th>Volume</th>\n",
              "      <th>Adj Close</th>\n",
              "    </tr>\n",
              "    <tr>\n",
              "      <th>Date</th>\n",
              "      <th></th>\n",
              "      <th></th>\n",
              "      <th></th>\n",
              "      <th></th>\n",
              "      <th></th>\n",
              "      <th></th>\n",
              "    </tr>\n",
              "  </thead>\n",
              "  <tbody>\n",
              "    <tr>\n",
              "      <th>2013-01-02</th>\n",
              "      <td>19.821428</td>\n",
              "      <td>19.343929</td>\n",
              "      <td>19.779285</td>\n",
              "      <td>19.608213</td>\n",
              "      <td>560518000.0</td>\n",
              "      <td>16.960691</td>\n",
              "    </tr>\n",
              "    <tr>\n",
              "      <th>2013-01-03</th>\n",
              "      <td>19.631071</td>\n",
              "      <td>19.321428</td>\n",
              "      <td>19.567142</td>\n",
              "      <td>19.360714</td>\n",
              "      <td>352965200.0</td>\n",
              "      <td>16.746618</td>\n",
              "    </tr>\n",
              "  </tbody>\n",
              "</table>\n",
              "</div>\n",
              "      <button class=\"colab-df-convert\" onclick=\"convertToInteractive('df-35dd6d9b-a3d2-4c88-b672-af2ea70c2b1d')\"\n",
              "              title=\"Convert this dataframe to an interactive table.\"\n",
              "              style=\"display:none;\">\n",
              "        \n",
              "  <svg xmlns=\"http://www.w3.org/2000/svg\" height=\"24px\"viewBox=\"0 0 24 24\"\n",
              "       width=\"24px\">\n",
              "    <path d=\"M0 0h24v24H0V0z\" fill=\"none\"/>\n",
              "    <path d=\"M18.56 5.44l.94 2.06.94-2.06 2.06-.94-2.06-.94-.94-2.06-.94 2.06-2.06.94zm-11 1L8.5 8.5l.94-2.06 2.06-.94-2.06-.94L8.5 2.5l-.94 2.06-2.06.94zm10 10l.94 2.06.94-2.06 2.06-.94-2.06-.94-.94-2.06-.94 2.06-2.06.94z\"/><path d=\"M17.41 7.96l-1.37-1.37c-.4-.4-.92-.59-1.43-.59-.52 0-1.04.2-1.43.59L10.3 9.45l-7.72 7.72c-.78.78-.78 2.05 0 2.83L4 21.41c.39.39.9.59 1.41.59.51 0 1.02-.2 1.41-.59l7.78-7.78 2.81-2.81c.8-.78.8-2.07 0-2.86zM5.41 20L4 18.59l7.72-7.72 1.47 1.35L5.41 20z\"/>\n",
              "  </svg>\n",
              "      </button>\n",
              "      \n",
              "  <style>\n",
              "    .colab-df-container {\n",
              "      display:flex;\n",
              "      flex-wrap:wrap;\n",
              "      gap: 12px;\n",
              "    }\n",
              "\n",
              "    .colab-df-convert {\n",
              "      background-color: #E8F0FE;\n",
              "      border: none;\n",
              "      border-radius: 50%;\n",
              "      cursor: pointer;\n",
              "      display: none;\n",
              "      fill: #1967D2;\n",
              "      height: 32px;\n",
              "      padding: 0 0 0 0;\n",
              "      width: 32px;\n",
              "    }\n",
              "\n",
              "    .colab-df-convert:hover {\n",
              "      background-color: #E2EBFA;\n",
              "      box-shadow: 0px 1px 2px rgba(60, 64, 67, 0.3), 0px 1px 3px 1px rgba(60, 64, 67, 0.15);\n",
              "      fill: #174EA6;\n",
              "    }\n",
              "\n",
              "    [theme=dark] .colab-df-convert {\n",
              "      background-color: #3B4455;\n",
              "      fill: #D2E3FC;\n",
              "    }\n",
              "\n",
              "    [theme=dark] .colab-df-convert:hover {\n",
              "      background-color: #434B5C;\n",
              "      box-shadow: 0px 1px 3px 1px rgba(0, 0, 0, 0.15);\n",
              "      filter: drop-shadow(0px 1px 2px rgba(0, 0, 0, 0.3));\n",
              "      fill: #FFFFFF;\n",
              "    }\n",
              "  </style>\n",
              "\n",
              "      <script>\n",
              "        const buttonEl =\n",
              "          document.querySelector('#df-35dd6d9b-a3d2-4c88-b672-af2ea70c2b1d button.colab-df-convert');\n",
              "        buttonEl.style.display =\n",
              "          google.colab.kernel.accessAllowed ? 'block' : 'none';\n",
              "\n",
              "        async function convertToInteractive(key) {\n",
              "          const element = document.querySelector('#df-35dd6d9b-a3d2-4c88-b672-af2ea70c2b1d');\n",
              "          const dataTable =\n",
              "            await google.colab.kernel.invokeFunction('convertToInteractive',\n",
              "                                                     [key], {});\n",
              "          if (!dataTable) return;\n",
              "\n",
              "          const docLinkHtml = 'Like what you see? Visit the ' +\n",
              "            '<a target=\"_blank\" href=https://colab.research.google.com/notebooks/data_table.ipynb>data table notebook</a>'\n",
              "            + ' to learn more about interactive tables.';\n",
              "          element.innerHTML = '';\n",
              "          dataTable['output_type'] = 'display_data';\n",
              "          await google.colab.output.renderOutput(dataTable, element);\n",
              "          const docLink = document.createElement('div');\n",
              "          docLink.innerHTML = docLinkHtml;\n",
              "          element.appendChild(docLink);\n",
              "        }\n",
              "      </script>\n",
              "    </div>\n",
              "  </div>\n",
              "  "
            ],
            "text/plain": [
              "                 High        Low       Open      Close       Volume  Adj Close\n",
              "Date                                                                          \n",
              "2013-01-02  19.821428  19.343929  19.779285  19.608213  560518000.0  16.960691\n",
              "2013-01-03  19.631071  19.321428  19.567142  19.360714  352965200.0  16.746618"
            ]
          },
          "metadata": {},
          "execution_count": 42
        }
      ],
      "source": [
        "# Import the dataset\n",
        "df=pd.read_csv('/content/drive/MyDrive/Apple_2013_2016.csv',index_col='Date')\n",
        "df2=df.copy()\n",
        "df.head(2)"
      ]
    },
    {
      "cell_type": "code",
      "execution_count": 43,
      "id": "4ab73718",
      "metadata": {
        "colab": {
          "base_uri": "https://localhost:8080/"
        },
        "id": "4ab73718",
        "outputId": "e96672b2-c7fe-4118-aab0-96c12e3bd00e"
      },
      "outputs": [
        {
          "output_type": "execute_result",
          "data": {
            "text/plain": [
              "(1008, 6)"
            ]
          },
          "metadata": {},
          "execution_count": 43
        }
      ],
      "source": [
        "df.shape"
      ]
    },
    {
      "cell_type": "code",
      "execution_count": 44,
      "id": "33ee6c1d",
      "metadata": {
        "colab": {
          "base_uri": "https://localhost:8080/",
          "height": 555
        },
        "id": "33ee6c1d",
        "outputId": "d2c7fc2e-f4fe-434c-fd3a-d484068a78d2"
      },
      "outputs": [
        {
          "output_type": "display_data",
          "data": {
            "image/png": "[encoded data removed]",
            "text/plain": [
              "<Figure size 1152x576 with 1 Axes>"
            ]
          },
          "metadata": {}
        }
      ],
      "source": [
        "# visualize the closing price history\n",
        "plt.figure(figsize=(16,8))\n",
        "plt.title('Close Price History')\n",
        "plt.plot(df['Close'], color='black')\n",
        "plt.xlabel('Date', fontsize=16)\n",
        "plt.ylabel('Close Price USD ($)', fontsize=16)\n",
        "plt.show()"
      ]
    },
    {
      "cell_type": "code",
      "execution_count": 45,
      "id": "d686613d",
      "metadata": {
        "colab": {
          "base_uri": "https://localhost:8080/"
        },
        "id": "d686613d",
        "outputId": "551bbace-8d81-434b-a24f-42a397a15353"
      },
      "outputs": [
        {
          "output_type": "execute_result",
          "data": {
            "text/plain": [
              "756"
            ]
          },
          "metadata": {},
          "execution_count": 45
        }
      ],
      "source": [
        "# Create a new dataframe containing the Close column and convert it to a numpy array\n",
        "data=df[['Close']].values\n",
        "data[:10]\n",
        "# Get the number of rows in the train set\n",
        "training_data_len=int(len(data)*.75)\n",
        "training_data_len"
      ]
    },
    {
      "cell_type": "code",
      "execution_count": 46,
      "id": "dacffc2e",
      "metadata": {
        "colab": {
          "base_uri": "https://localhost:8080/"
        },
        "id": "dacffc2e",
        "outputId": "8d25eb52-da9c-4d66-f9fb-771ac815ccd7"
      },
      "outputs": [
        {
          "output_type": "execute_result",
          "data": {
            "text/plain": [
              "array([[0.29326322],\n",
              "       [0.28044107],\n",
              "       [0.25250243],\n",
              "       ...,\n",
              "       [0.78966458],\n",
              "       [0.78927604],\n",
              "       [0.77748996]])"
            ]
          },
          "metadata": {},
          "execution_count": 46
        }
      ],
      "source": [
        "# Scale the data\n",
        "scaler=MinMaxScaler(feature_range=(0,1))\n",
        "scaled_data=scaler.fit_transform(data)\n",
        "scaled_data"
      ]
    },
    {
      "cell_type": "code",
      "execution_count": 47,
      "id": "4749631f",
      "metadata": {
        "colab": {
          "base_uri": "https://localhost:8080/"
        },
        "id": "4749631f",
        "outputId": "0b905db9-0170-4c83-8352-2d280ca55281"
      },
      "outputs": [
        {
          "output_type": "stream",
          "name": "stdout",
          "text": [
            "[array([0.29326322, 0.28044107, 0.25250243, 0.2467667 , 0.24937547,\n",
            "       0.23418506, 0.24604516, 0.24010587, 0.20578387, 0.17649455,\n",
            "       0.21381386, 0.20750451, 0.20254595, 0.21137158, 0.22846781,\n",
            "       0.11095903, 0.09130941, 0.10971931, 0.12533531, 0.122671  ,\n",
            "       0.12019167, 0.11673171, 0.095824  , 0.12453976, 0.12363315,\n",
            "       0.14374526, 0.15625289, 0.16541152, 0.14315317, 0.14150645])]\n",
            "[0.1407293764499038]\n",
            "\n",
            "[array([0.29326322, 0.28044107, 0.25250243, 0.2467667 , 0.24937547,\n",
            "       0.23418506, 0.24604516, 0.24010587, 0.20578387, 0.17649455,\n",
            "       0.21381386, 0.20750451, 0.20254595, 0.21137158, 0.22846781,\n",
            "       0.11095903, 0.09130941, 0.10971931, 0.12533531, 0.122671  ,\n",
            "       0.12019167, 0.11673171, 0.095824  , 0.12453976, 0.12363315,\n",
            "       0.14374526, 0.15625289, 0.16541152, 0.14315317, 0.14150645]), array([0.28044107, 0.25250243, 0.2467667 , 0.24937547, 0.23418506,\n",
            "       0.24604516, 0.24010587, 0.20578387, 0.17649455, 0.21381386,\n",
            "       0.20750451, 0.20254595, 0.21137158, 0.22846781, 0.11095903,\n",
            "       0.09130941, 0.10971931, 0.12533531, 0.122671  , 0.12019167,\n",
            "       0.11673171, 0.095824  , 0.12453976, 0.12363315, 0.14374526,\n",
            "       0.15625289, 0.16541152, 0.14315317, 0.14150645, 0.14072938])]\n",
            "[0.1407293764499038, 0.1288323231788241]\n",
            "\n"
          ]
        }
      ],
      "source": [
        "#Create the scaled training dataset\n",
        "train_data=scaled_data[0:training_data_len, :]\n",
        "# split into train and test\n",
        "x_train=[]\n",
        "y_train=[]\n",
        "for i in range(30, len(train_data)):\n",
        "    x_train.append(train_data[i-30:i, 0])\n",
        "    y_train.append(train_data[i,0])\n",
        "    if i<=31 :\n",
        "        print(x_train)\n",
        "        print(y_train)\n",
        "        print()"
      ]
    },
    {
      "cell_type": "code",
      "execution_count": 48,
      "id": "7975a493",
      "metadata": {
        "id": "7975a493"
      },
      "outputs": [],
      "source": [
        "# Convert the x_train and y_train to numpy arrays \n",
        "x_train, y_train = np.array(x_train), np.array(y_train)"
      ]
    },
    {
      "cell_type": "code",
      "execution_count": 49,
      "id": "2f6626ed",
      "metadata": {
        "colab": {
          "base_uri": "https://localhost:8080/"
        },
        "id": "2f6626ed",
        "outputId": "811a4724-7a59-4011-8aef-32d2e08c48d4"
      },
      "outputs": [
        {
          "output_type": "execute_result",
          "data": {
            "text/plain": [
              "(726, 30)"
            ]
          },
          "metadata": {},
          "execution_count": 49
        }
      ],
      "source": [
        "x_train.shape"
      ]
    },
    {
      "cell_type": "code",
      "execution_count": 50,
      "id": "19f338ad",
      "metadata": {
        "colab": {
          "base_uri": "https://localhost:8080/"
        },
        "id": "19f338ad",
        "outputId": "42e1de22-4d08-4b81-dfbe-85c592a3a28b"
      },
      "outputs": [
        {
          "output_type": "execute_result",
          "data": {
            "text/plain": [
              "(726, 30, 1)"
            ]
          },
          "metadata": {},
          "execution_count": 50
        }
      ],
      "source": [
        "# Reshape the data(LSTM model expect three dimentions)\n",
        "x_train=np.reshape(x_train, (x_train.shape[0],x_train.shape[1] , 1))\n",
        "x_train.shape"
      ]
    },
    {
      "cell_type": "code",
      "execution_count": 51,
      "id": "a5a739f0",
      "metadata": {
        "id": "a5a739f0"
      },
      "outputs": [],
      "source": [
        "# Build the LSTM model \n",
        "model=Sequential()\n",
        "model.add(LSTM(50, return_sequences=True, input_shape=(30, 1)))\n",
        "model.add(LSTM(50, return_sequences=True))\n",
        "model.add(LSTM(50, return_sequences=False))\n",
        "model.add(Dense(25))\n",
        "model.add(Dense(1))"
      ]
    },
    {
      "cell_type": "code",
      "execution_count": 52,
      "id": "1cba1e46",
      "metadata": {
        "id": "1cba1e46"
      },
      "outputs": [],
      "source": [
        "# Compile the model\n",
        "model.compile(optimizer='adam', loss='mean_squared_error')"
      ]
    },
    {
      "cell_type": "code",
      "execution_count": 53,
      "id": "f740c928",
      "metadata": {
        "colab": {
          "base_uri": "https://localhost:8080/"
        },
        "id": "f740c928",
        "outputId": "9344969c-f8ad-4118-e894-f30c2dcaff57"
      },
      "outputs": [
        {
          "output_type": "stream",
          "name": "stdout",
          "text": [
            "Epoch 1/50\n",
            "726/726 [==============================] - 20s 21ms/step - loss: 0.0062\n",
            "Epoch 2/50\n",
            "726/726 [==============================] - 16s 21ms/step - loss: 0.0033\n",
            "Epoch 3/50\n",
            "726/726 [==============================] - 16s 21ms/step - loss: 0.0022\n",
            "Epoch 4/50\n",
            "726/726 [==============================] - 16s 22ms/step - loss: 0.0018\n",
            "Epoch 5/50\n",
            "726/726 [==============================] - 16s 22ms/step - loss: 0.0014\n",
            "Epoch 6/50\n",
            "726/726 [==============================] - 16s 21ms/step - loss: 0.0011\n",
            "Epoch 7/50\n",
            "726/726 [==============================] - 16s 22ms/step - loss: 9.9994e-04\n",
            "Epoch 8/50\n",
            "726/726 [==============================] - 16s 21ms/step - loss: 9.8180e-04\n",
            "Epoch 9/50\n",
            "726/726 [==============================] - 16s 22ms/step - loss: 8.1797e-04\n",
            "Epoch 10/50\n",
            "726/726 [==============================] - 16s 21ms/step - loss: 7.8043e-04\n",
            "Epoch 11/50\n",
            "726/726 [==============================] - 16s 22ms/step - loss: 0.0013\n",
            "Epoch 12/50\n",
            "726/726 [==============================] - 15s 21ms/step - loss: 7.4822e-04\n",
            "Epoch 13/50\n",
            "726/726 [==============================] - 16s 21ms/step - loss: 6.1842e-04\n",
            "Epoch 14/50\n",
            "726/726 [==============================] - 16s 21ms/step - loss: 9.3514e-04\n",
            "Epoch 15/50\n",
            "726/726 [==============================] - 16s 22ms/step - loss: 7.2175e-04\n",
            "Epoch 16/50\n",
            "726/726 [==============================] - 16s 22ms/step - loss: 6.7202e-04\n",
            "Epoch 17/50\n",
            "726/726 [==============================] - 15s 21ms/step - loss: 7.2862e-04\n",
            "Epoch 18/50\n",
            "726/726 [==============================] - 16s 22ms/step - loss: 8.4605e-04\n",
            "Epoch 19/50\n",
            "726/726 [==============================] - 16s 22ms/step - loss: 8.5146e-04\n",
            "Epoch 20/50\n",
            "726/726 [==============================] - 16s 22ms/step - loss: 6.2933e-04\n",
            "Epoch 21/50\n",
            "726/726 [==============================] - 16s 22ms/step - loss: 6.7251e-04\n",
            "Epoch 22/50\n",
            "726/726 [==============================] - 16s 22ms/step - loss: 6.7200e-04\n",
            "Epoch 23/50\n",
            "726/726 [==============================] - 16s 22ms/step - loss: 6.9357e-04\n",
            "Epoch 24/50\n",
            "726/726 [==============================] - 16s 22ms/step - loss: 6.4502e-04\n",
            "Epoch 25/50\n",
            "726/726 [==============================] - 16s 22ms/step - loss: 6.6936e-04\n",
            "Epoch 26/50\n",
            "726/726 [==============================] - 16s 22ms/step - loss: 6.0765e-04\n",
            "Epoch 27/50\n",
            "726/726 [==============================] - 16s 22ms/step - loss: 7.2336e-04\n",
            "Epoch 28/50\n",
            "726/726 [==============================] - 16s 22ms/step - loss: 6.0388e-04\n",
            "Epoch 29/50\n",
            "726/726 [==============================] - 16s 22ms/step - loss: 6.5977e-04\n",
            "Epoch 30/50\n",
            "726/726 [==============================] - 16s 22ms/step - loss: 6.9658e-04\n",
            "Epoch 31/50\n",
            "726/726 [==============================] - 16s 22ms/step - loss: 6.6645e-04\n",
            "Epoch 32/50\n",
            "726/726 [==============================] - 16s 22ms/step - loss: 6.4033e-04\n",
            "Epoch 33/50\n",
            "726/726 [==============================] - 16s 22ms/step - loss: 5.8148e-04\n",
            "Epoch 34/50\n",
            "726/726 [==============================] - 16s 22ms/step - loss: 6.8606e-04\n",
            "Epoch 35/50\n",
            "726/726 [==============================] - 16s 22ms/step - loss: 6.5874e-04\n",
            "Epoch 36/50\n",
            "726/726 [==============================] - 16s 22ms/step - loss: 6.9002e-04\n",
            "Epoch 37/50\n",
            "726/726 [==============================] - 16s 22ms/step - loss: 6.0490e-04\n",
            "Epoch 38/50\n",
            "726/726 [==============================] - 16s 22ms/step - loss: 5.8688e-04\n",
            "Epoch 39/50\n",
            "726/726 [==============================] - 16s 22ms/step - loss: 5.4172e-04\n",
            "Epoch 40/50\n",
            "726/726 [==============================] - 16s 22ms/step - loss: 5.8524e-04\n",
            "Epoch 41/50\n",
            "726/726 [==============================] - 16s 22ms/step - loss: 5.8505e-04\n",
            "Epoch 42/50\n",
            "726/726 [==============================] - 16s 22ms/step - loss: 6.5429e-04\n",
            "Epoch 43/50\n",
            "726/726 [==============================] - 16s 21ms/step - loss: 5.6789e-04\n",
            "Epoch 44/50\n",
            "726/726 [==============================] - 16s 21ms/step - loss: 5.6860e-04\n",
            "Epoch 45/50\n",
            "726/726 [==============================] - 16s 21ms/step - loss: 5.9594e-04\n",
            "Epoch 46/50\n",
            "726/726 [==============================] - 15s 21ms/step - loss: 6.5414e-04\n",
            "Epoch 47/50\n",
            "726/726 [==============================] - 16s 22ms/step - loss: 6.2298e-04\n",
            "Epoch 48/50\n",
            "726/726 [==============================] - 16s 21ms/step - loss: 6.1713e-04\n",
            "Epoch 49/50\n",
            "726/726 [==============================] - 16s 22ms/step - loss: 6.1162e-04\n",
            "Epoch 50/50\n",
            "726/726 [==============================] - 16s 22ms/step - loss: 6.0801e-04\n"
          ]
        },
        {
          "output_type": "execute_result",
          "data": {
            "text/plain": [
              "<keras.callbacks.History at 0x7fc6e9666790>"
            ]
          },
          "metadata": {},
          "execution_count": 53
        }
      ],
      "source": [
        "# Train the model\n",
        "model.fit(x_train,y_train,batch_size=1, epochs=50)"
      ]
    },
    {
      "cell_type": "code",
      "source": [
        "# create x_test and y_test\n",
        "test_data=scaled_data[training_data_len-30:, :]\n",
        "x_test=[]\n",
        "y_test=data[training_data_len:,:]\n",
        "for i in range(30, len(test_data)):\n",
        "  x_test.append(test_data[i-30:i, 0])"
      ],
      "metadata": {
        "id": "DBKmZNTiKMhW"
      },
      "id": "DBKmZNTiKMhW",
      "execution_count": 60,
      "outputs": []
    },
    {
      "cell_type": "code",
      "source": [
        "# Convert the data to numpy array\n",
        "x_test=np.array(x_test)\n",
        "# Reshape the data\n",
        "x_test=np.reshape(x_test, (x_test.shape[0], x_test.shape[1], 1))"
      ],
      "metadata": {
        "id": "0bmKmKvoKMlr"
      },
      "id": "0bmKmKvoKMlr",
      "execution_count": 61,
      "outputs": []
    },
    {
      "cell_type": "code",
      "execution_count": 62,
      "id": "143d2a89",
      "metadata": {
        "colab": {
          "base_uri": "https://localhost:8080/"
        },
        "id": "143d2a89",
        "outputId": "ace21ba3-72fc-4fec-f040-fb5066e97ca1"
      },
      "outputs": [
        {
          "output_type": "execute_result",
          "data": {
            "text/plain": [
              "(252, 30, 1)"
            ]
          },
          "metadata": {},
          "execution_count": 62
        }
      ],
      "source": [
        "x_test.shape"
      ]
    },
    {
      "cell_type": "code",
      "execution_count": 63,
      "id": "958b3c0e",
      "metadata": {
        "id": "958b3c0e"
      },
      "outputs": [],
      "source": [
        "# get the models predicted price values\n",
        "predictions=model.predict(x_test)\n",
        "predictions=scaler.inverse_transform(predictions)"
      ]
    },
    {
      "cell_type": "code",
      "execution_count": 64,
      "id": "3a2df229",
      "metadata": {
        "colab": {
          "base_uri": "https://localhost:8080/"
        },
        "id": "3a2df229",
        "outputId": "44eb154e-6e81-46d1-e272-507216d0b7ed"
      },
      "outputs": [
        {
          "output_type": "execute_result",
          "data": {
            "text/plain": [
              "0.27965750013078944"
            ]
          },
          "metadata": {},
          "execution_count": 64
        }
      ],
      "source": [
        "# Get the root mean quared error (RMSE)\n",
        "rmse=np.sqrt(np.mean(predictions-y_test)**2)\n",
        "rmse"
      ]
    },
    {
      "cell_type": "code",
      "source": [
        "data"
      ],
      "metadata": {
        "colab": {
          "base_uri": "https://localhost:8080/"
        },
        "id": "QvXQijQMNov5",
        "outputId": "981492f0-6736-4739-8ceb-86e52dd5a730"
      },
      "id": "QvXQijQMNov5",
      "execution_count": 69,
      "outputs": [
        {
          "output_type": "execute_result",
          "data": {
            "text/plain": [
              "array([[19.60821342],\n",
              "       [19.36071396],\n",
              "       [18.8214283 ],\n",
              "       ...,\n",
              "       [29.19000053],\n",
              "       [29.18250084],\n",
              "       [28.95499992]])"
            ]
          },
          "metadata": {},
          "execution_count": 69
        }
      ]
    },
    {
      "cell_type": "code",
      "execution_count": 71,
      "id": "201b2f72",
      "metadata": {
        "colab": {
          "base_uri": "https://localhost:8080/",
          "height": 576
        },
        "id": "201b2f72",
        "outputId": "e4f4d120-1aa2-4664-9189-b13b84ca140b"
      },
      "outputs": [
        {
          "output_type": "execute_result",
          "data": {
            "text/plain": [
              "<function matplotlib.pyplot.show>"
            ]
          },
          "metadata": {},
          "execution_count": 71
        },
        {
          "output_type": "display_data",
          "data": {
            "image/png": "[encoded data removed]",
            "text/plain": [
              "<Figure size 864x576 with 1 Axes>"
            ]
          },
          "metadata": {}
        }
      ],
      "source": [
        "# Plot the data \n",
        "train=df[['Close']][:training_data_len]\n",
        "valid=df[['Close']][training_data_len:]\n",
        "valid['predictions']=predictions\n",
        "# visualize the data\n",
        "plt.figure(figsize=(12,8))\n",
        "plt.title('Model')\n",
        "plt.xlabel('Date', fontsize=18)\n",
        "plt.ylabel('Close Prise USD ($)', fontsize=18)\n",
        "plt.plot(train['Close'])\n",
        "plt.plot(valid[['Close', 'predictions']])\n",
        "plt.legend(['Train', 'Valid', 'Predictions'], loc='lower right')\n",
        "plt.show"
      ]
    },
    {
      "cell_type": "code",
      "execution_count": 72,
      "id": "18ad3750",
      "metadata": {
        "colab": {
          "base_uri": "https://localhost:8080/",
          "height": 455
        },
        "id": "18ad3750",
        "outputId": "80c61f85-7a8a-4bbf-afec-967c28cb2f01"
      },
      "outputs": [
        {
          "output_type": "execute_result",
          "data": {
            "text/html": [
              "\n",
              "  <div id=\"df-3f6891f9-674a-418c-b408-468449171d4a\">\n",
              "    <div class=\"colab-df-container\">\n",
              "      <div>\n",
              "<style scoped>\n",
              "    .dataframe tbody tr th:only-of-type {\n",
              "        vertical-align: middle;\n",
              "    }\n",
              "\n",
              "    .dataframe tbody tr th {\n",
              "        vertical-align: top;\n",
              "    }\n",
              "\n",
              "    .dataframe thead th {\n",
              "        text-align: right;\n",
              "    }\n",
              "</style>\n",
              "<table border=\"1\" class=\"dataframe\">\n",
              "  <thead>\n",
              "    <tr style=\"text-align: right;\">\n",
              "      <th></th>\n",
              "      <th>Close</th>\n",
              "      <th>predictions</th>\n",
              "    </tr>\n",
              "    <tr>\n",
              "      <th>Date</th>\n",
              "      <th></th>\n",
              "      <th></th>\n",
              "    </tr>\n",
              "  </thead>\n",
              "  <tbody>\n",
              "    <tr>\n",
              "      <th>2016-01-04</th>\n",
              "      <td>26.337500</td>\n",
              "      <td>26.575598</td>\n",
              "    </tr>\n",
              "    <tr>\n",
              "      <th>2016-01-05</th>\n",
              "      <td>25.677500</td>\n",
              "      <td>26.623142</td>\n",
              "    </tr>\n",
              "    <tr>\n",
              "      <th>2016-01-06</th>\n",
              "      <td>25.174999</td>\n",
              "      <td>25.911150</td>\n",
              "    </tr>\n",
              "    <tr>\n",
              "      <th>2016-01-07</th>\n",
              "      <td>24.112499</td>\n",
              "      <td>25.446527</td>\n",
              "    </tr>\n",
              "    <tr>\n",
              "      <th>2016-01-08</th>\n",
              "      <td>24.240000</td>\n",
              "      <td>24.319427</td>\n",
              "    </tr>\n",
              "    <tr>\n",
              "      <th>...</th>\n",
              "      <td>...</td>\n",
              "      <td>...</td>\n",
              "    </tr>\n",
              "    <tr>\n",
              "      <th>2016-12-23</th>\n",
              "      <td>29.129999</td>\n",
              "      <td>29.207943</td>\n",
              "    </tr>\n",
              "    <tr>\n",
              "      <th>2016-12-27</th>\n",
              "      <td>29.315001</td>\n",
              "      <td>29.288988</td>\n",
              "    </tr>\n",
              "    <tr>\n",
              "      <th>2016-12-28</th>\n",
              "      <td>29.190001</td>\n",
              "      <td>29.463579</td>\n",
              "    </tr>\n",
              "    <tr>\n",
              "      <th>2016-12-29</th>\n",
              "      <td>29.182501</td>\n",
              "      <td>29.327080</td>\n",
              "    </tr>\n",
              "    <tr>\n",
              "      <th>2016-12-30</th>\n",
              "      <td>28.955000</td>\n",
              "      <td>29.341516</td>\n",
              "    </tr>\n",
              "  </tbody>\n",
              "</table>\n",
              "<p>252 rows × 2 columns</p>\n",
              "</div>\n",
              "      <button class=\"colab-df-convert\" onclick=\"convertToInteractive('df-3f6891f9-674a-418c-b408-468449171d4a')\"\n",
              "              title=\"Convert this dataframe to an interactive table.\"\n",
              "              style=\"display:none;\">\n",
              "        \n",
              "  <svg xmlns=\"http://www.w3.org/2000/svg\" height=\"24px\"viewBox=\"0 0 24 24\"\n",
              "       width=\"24px\">\n",
              "    <path d=\"M0 0h24v24H0V0z\" fill=\"none\"/>\n",
              "    <path d=\"M18.56 5.44l.94 2.06.94-2.06 2.06-.94-2.06-.94-.94-2.06-.94 2.06-2.06.94zm-11 1L8.5 8.5l.94-2.06 2.06-.94-2.06-.94L8.5 2.5l-.94 2.06-2.06.94zm10 10l.94 2.06.94-2.06 2.06-.94-2.06-.94-.94-2.06-.94 2.06-2.06.94z\"/><path d=\"M17.41 7.96l-1.37-1.37c-.4-.4-.92-.59-1.43-.59-.52 0-1.04.2-1.43.59L10.3 9.45l-7.72 7.72c-.78.78-.78 2.05 0 2.83L4 21.41c.39.39.9.59 1.41.59.51 0 1.02-.2 1.41-.59l7.78-7.78 2.81-2.81c.8-.78.8-2.07 0-2.86zM5.41 20L4 18.59l7.72-7.72 1.47 1.35L5.41 20z\"/>\n",
              "  </svg>\n",
              "      </button>\n",
              "      \n",
              "  <style>\n",
              "    .colab-df-container {\n",
              "      display:flex;\n",
              "      flex-wrap:wrap;\n",
              "      gap: 12px;\n",
              "    }\n",
              "\n",
              "    .colab-df-convert {\n",
              "      background-color: #E8F0FE;\n",
              "      border: none;\n",
              "      border-radius: 50%;\n",
              "      cursor: pointer;\n",
              "      display: none;\n",
              "      fill: #1967D2;\n",
              "      height: 32px;\n",
              "      padding: 0 0 0 0;\n",
              "      width: 32px;\n",
              "    }\n",
              "\n",
              "    .colab-df-convert:hover {\n",
              "      background-color: #E2EBFA;\n",
              "      box-shadow: 0px 1px 2px rgba(60, 64, 67, 0.3), 0px 1px 3px 1px rgba(60, 64, 67, 0.15);\n",
              "      fill: #174EA6;\n",
              "    }\n",
              "\n",
              "    [theme=dark] .colab-df-convert {\n",
              "      background-color: #3B4455;\n",
              "      fill: #D2E3FC;\n",
              "    }\n",
              "\n",
              "    [theme=dark] .colab-df-convert:hover {\n",
              "      background-color: #434B5C;\n",
              "      box-shadow: 0px 1px 3px 1px rgba(0, 0, 0, 0.15);\n",
              "      filter: drop-shadow(0px 1px 2px rgba(0, 0, 0, 0.3));\n",
              "      fill: #FFFFFF;\n",
              "    }\n",
              "  </style>\n",
              "\n",
              "      <script>\n",
              "        const buttonEl =\n",
              "          document.querySelector('#df-3f6891f9-674a-418c-b408-468449171d4a button.colab-df-convert');\n",
              "        buttonEl.style.display =\n",
              "          google.colab.kernel.accessAllowed ? 'block' : 'none';\n",
              "\n",
              "        async function convertToInteractive(key) {\n",
              "          const element = document.querySelector('#df-3f6891f9-674a-418c-b408-468449171d4a');\n",
              "          const dataTable =\n",
              "            await google.colab.kernel.invokeFunction('convertToInteractive',\n",
              "                                                     [key], {});\n",
              "          if (!dataTable) return;\n",
              "\n",
              "          const docLinkHtml = 'Like what you see? Visit the ' +\n",
              "            '<a target=\"_blank\" href=https://colab.research.google.com/notebooks/data_table.ipynb>data table notebook</a>'\n",
              "            + ' to learn more about interactive tables.';\n",
              "          element.innerHTML = '';\n",
              "          dataTable['output_type'] = 'display_data';\n",
              "          await google.colab.output.renderOutput(dataTable, element);\n",
              "          const docLink = document.createElement('div');\n",
              "          docLink.innerHTML = docLinkHtml;\n",
              "          element.appendChild(docLink);\n",
              "        }\n",
              "      </script>\n",
              "    </div>\n",
              "  </div>\n",
              "  "
            ],
            "text/plain": [
              "                Close  predictions\n",
              "Date                              \n",
              "2016-01-04  26.337500    26.575598\n",
              "2016-01-05  25.677500    26.623142\n",
              "2016-01-06  25.174999    25.911150\n",
              "2016-01-07  24.112499    25.446527\n",
              "2016-01-08  24.240000    24.319427\n",
              "...               ...          ...\n",
              "2016-12-23  29.129999    29.207943\n",
              "2016-12-27  29.315001    29.288988\n",
              "2016-12-28  29.190001    29.463579\n",
              "2016-12-29  29.182501    29.327080\n",
              "2016-12-30  28.955000    29.341516\n",
              "\n",
              "[252 rows x 2 columns]"
            ]
          },
          "metadata": {},
          "execution_count": 72
        }
      ],
      "source": [
        "# Show the valid and predicted prices\n",
        "valid"
      ]
    },
    {
      "cell_type": "code",
      "source": [
        ""
      ],
      "metadata": {
        "id": "L25xlbLDO8gw"
      },
      "id": "L25xlbLDO8gw",
      "execution_count": 72,
      "outputs": []
    }
  ],
  "metadata": {
    "kernelspec": {
      "display_name": "Python 3",
      "language": "python",
      "name": "python3"
    },
    "language_info": {
      "codemirror_mode": {
        "name": "ipython",
        "version": 3
      },
      "file_extension": ".py",
      "mimetype": "text/x-python",
      "name": "python",
      "nbconvert_exporter": "python",
      "pygments_lexer": "ipython3",
      "version": "3.8.8"
    },
    "colab": {
      "name": "Stock Price Prediction Using LSTM model.ipynb",
      "provenance": [],
      "collapsed_sections": []
    }
  },
  "nbformat": 4,
  "nbformat_minor": 5
}